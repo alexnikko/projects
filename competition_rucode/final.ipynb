{
 "cells": [
  {
   "cell_type": "markdown",
   "metadata": {},
   "source": [
    "## О чём\n",
    "В этом ноутбуке приведено моё решение соревнования по машинному обучения от `Rucode`\n",
    "\n",
    "Цель соревнования - предсказание цены иномарки по её характеристикам, подробная информация [здесь](https://www.kaggle.com/c/rucode-carprice)"
   ]
  },
  {
   "cell_type": "code",
   "execution_count": 8,
   "metadata": {
    "ExecuteTime": {
     "end_time": "2020-04-22T20:01:06.267613Z",
     "start_time": "2020-04-22T20:01:06.263612Z"
    }
   },
   "outputs": [],
   "source": [
    "import warnings\n",
    "warnings.filterwarnings('ignore')\n",
    "import numpy as np\n",
    "import pandas as pd\n",
    "import seaborn as sns\n",
    "from sklearn.model_selection import train_test_split\n",
    "from lightgbm import LGBMRegressor\n",
    "from sklearn.metrics import r2_score, mean_squared_error\n",
    "from sklearn.impute import SimpleImputer\n",
    "from sklearn.preprocessing import LabelEncoder\n",
    "from sklearn.model_selection import cross_val_score, cross_val_predict\n",
    "from scipy import stats\n",
    "from sklearn.ensemble import RandomForestRegressor, ExtraTreesRegressor, AdaBoostRegressor\n",
    "from sklearn.neighbors import NearestNeighbors\n",
    "from vecstack import stacking"
   ]
  },
  {
   "cell_type": "code",
   "execution_count": 9,
   "metadata": {
    "ExecuteTime": {
     "end_time": "2020-04-22T20:01:06.509746Z",
     "start_time": "2020-04-22T20:01:06.502744Z"
    }
   },
   "outputs": [],
   "source": [
    "def make_label_enc(train, test, cats):\n",
    "    train[cats] = train[cats].fillna('unknown')\n",
    "    test[cats] = test[cats].fillna('unknown')\n",
    "    for cat in cats:\n",
    "        enc = LabelEncoder()\n",
    "        enc.fit(train[cat])\n",
    "        enc_dict = dict(zip(enc.classes_, enc.transform(enc.classes_)))\n",
    "        if 'unknown' not in list(enc_dict.keys()):\n",
    "            enc_dict['unknown'] = len(enc_dict)\n",
    "        test.loc[test[cat].isin(list(enc_dict.keys())) == False, cat] = 'unknown'\n",
    "        train[cat + '_enc'] = train[cat].apply(lambda x: enc_dict[x])\n",
    "        test[cat + '_enc'] = test[cat].apply(lambda x: enc_dict[x])\n",
    "        \n",
    "        \n",
    "def make_submit(name, test, preds):\n",
    "    d = {'Id': test.index, 'Price': preds}\n",
    "    pd.DataFrame(d).to_csv(name, index=False)\n",
    "    \n",
    "\n",
    "def RMSLE(y, pred):\n",
    "    return mean_squared_error(y, pred) ** 0.5"
   ]
  },
  {
   "cell_type": "code",
   "execution_count": 10,
   "metadata": {
    "ExecuteTime": {
     "end_time": "2020-04-22T20:01:06.738192Z",
     "start_time": "2020-04-22T20:01:06.726189Z"
    }
   },
   "outputs": [],
   "source": [
    "def reduce_mem_usage(df, verbose=True):\n",
    "    numerics = ['int16', 'int32', 'int64', 'float16', 'float32', 'float64']\n",
    "    start_mem = df.memory_usage().sum() / 1024**2\n",
    "    for col in df.columns:\n",
    "        col_type = df[col].dtypes\n",
    "        if col_type in numerics:\n",
    "            c_min = df[col].min()\n",
    "            c_max = df[col].max()\n",
    "            if str(col_type)[:3] == 'int':\n",
    "                if c_min > np.iinfo(np.int8).min and c_max < np.iinfo(np.int8).max:\n",
    "                    df[col] = df[col].astype(np.int8)\n",
    "                elif c_min > np.iinfo(np.int16).min and c_max < np.iinfo(np.int16).max:\n",
    "                    df[col] = df[col].astype(np.int16)\n",
    "                elif c_min > np.iinfo(np.int32).min and c_max < np.iinfo(np.int32).max:\n",
    "                    df[col] = df[col].astype(np.int32)\n",
    "                elif c_min > np.iinfo(np.int64).min and c_max < np.iinfo(np.int64).max:\n",
    "                    df[col] = df[col].astype(np.int64)\n",
    "            else:\n",
    "                if c_min > np.finfo(np.float16).min and c_max < np.finfo(np.float16).max:\n",
    "                    df[col] = df[col].astype(np.float16)\n",
    "                elif c_min > np.finfo(np.float32).min and c_max < np.finfo(np.float32).max:\n",
    "                    df[col] = df[col].astype(np.float32)\n",
    "                else:\n",
    "                    df[col] = df[col].astype(np.float64)\n",
    "\n",
    "    end_mem = df.memory_usage().sum() / 1024**2\n",
    "    print('Memory usage after optimization is: {:.2f} MB'.format(end_mem))\n",
    "    print('Decreased by {:.1f}%'.format(100 * (start_mem - end_mem) / start_mem))\n",
    "\n",
    "    return df"
   ]
  },
  {
   "cell_type": "code",
   "execution_count": 11,
   "metadata": {
    "ExecuteTime": {
     "end_time": "2020-04-22T20:01:13.796720Z",
     "start_time": "2020-04-22T20:01:12.998932Z"
    }
   },
   "outputs": [
    {
     "name": "stdout",
     "output_type": "stream",
     "text": [
      "Memory usage after optimization is: 4.30 MB\n",
      "Decreased by 67.7%\n",
      "Memory usage after optimization is: 1.91 MB\n",
      "Decreased by 69.3%\n"
     ]
    }
   ],
   "source": [
    "train = pd.read_csv('data_train.csv', index_col=0)\n",
    "test = pd.read_csv('data_test.csv', index_col=0)\n",
    "\n",
    "rename = {'Марка': 'brand', 'Модель': 'model', 'Год выпуска': \"prod_year\", 'Рабочий объем': 'volume',\n",
    "         'Мощность двигателя': 'power', 'Тип топлива': 'fuel_type', 'Трансмиссия': 'transmission',\n",
    "          'Количество мест': 'capacity', 'Количество дверей': 'doors', 'Пробег': 'mileage', 'Цена': 'price'}\n",
    "\n",
    "train.rename(mapper=rename, axis=1, inplace=True)\n",
    "test.rename(mapper=rename, axis=1, inplace=True)\n",
    "\n",
    "num_features = ['prod_year', 'volume', 'power', 'capacity', 'doors', 'mileage']\n",
    "cat_features = ['brand', 'model', 'fuel_type', 'transmission']\n",
    "cat_features_enc = [cat + '_enc' for cat in cat_features]\n",
    "\n",
    "train = train[(train.price > 1e4) & (train.price < 1e7)]\n",
    "\n",
    "make_label_enc(train, test, cat_features)\n",
    "# train_test = pd.concat((train, test))\n",
    "# train_test[num_features] = train_test[num_features].fillna(train_test[num_features].mean())\n",
    "# train_test = train_test[num_features + cat_features_enc]\n",
    "# train_test['gr_br'] = train_test.groupby('brand_enc')['brand_enc'].transform('count')\n",
    "# train_test['gr_br_mod'] = train_test.groupby(['brand_enc', 'model_enc'])['brand_enc'].transform('count')\n",
    "train[num_features] = train[num_features].fillna(train[num_features].mean())\n",
    "test[num_features] = test[num_features].fillna(test[num_features].mean())\n",
    "train = train[num_features + cat_features_enc + ['price']]\n",
    "test = test[num_features + cat_features_enc]\n",
    "train = reduce_mem_usage(train)\n",
    "test = reduce_mem_usage(test)\n",
    "X = train[num_features + cat_features_enc]\n",
    "y = train['price']\n",
    "X_train, X_test, y_train, y_test = train_test_split(X, y, test_size=0.33, random_state=42)"
   ]
  },
  {
   "cell_type": "code",
   "execution_count": 12,
   "metadata": {
    "ExecuteTime": {
     "end_time": "2020-04-22T20:01:49.317198Z",
     "start_time": "2020-04-22T20:01:15.822153Z"
    }
   },
   "outputs": [
    {
     "name": "stdout",
     "output_type": "stream",
     "text": [
      "Training until validation scores don't improve for 100 rounds\n",
      "[100]\tvalid_0's l2: 2.69693e+10\n",
      "[200]\tvalid_0's l2: 1.64696e+10\n",
      "[300]\tvalid_0's l2: 1.33737e+10\n",
      "[400]\tvalid_0's l2: 1.21612e+10\n",
      "[500]\tvalid_0's l2: 1.1584e+10\n",
      "[600]\tvalid_0's l2: 1.1206e+10\n",
      "[700]\tvalid_0's l2: 1.09148e+10\n",
      "[800]\tvalid_0's l2: 1.07001e+10\n",
      "[900]\tvalid_0's l2: 1.05323e+10\n",
      "[1000]\tvalid_0's l2: 1.04211e+10\n",
      "[1100]\tvalid_0's l2: 1.0312e+10\n",
      "[1200]\tvalid_0's l2: 1.02248e+10\n",
      "[1300]\tvalid_0's l2: 1.01518e+10\n",
      "[1400]\tvalid_0's l2: 1.00947e+10\n",
      "[1500]\tvalid_0's l2: 1.00374e+10\n",
      "[1600]\tvalid_0's l2: 9.98789e+09\n",
      "[1700]\tvalid_0's l2: 9.94971e+09\n",
      "[1800]\tvalid_0's l2: 9.90573e+09\n",
      "[1900]\tvalid_0's l2: 9.87808e+09\n",
      "[2000]\tvalid_0's l2: 9.84394e+09\n",
      "[2100]\tvalid_0's l2: 9.80932e+09\n",
      "[2200]\tvalid_0's l2: 9.78628e+09\n",
      "[2300]\tvalid_0's l2: 9.76368e+09\n",
      "[2400]\tvalid_0's l2: 9.74632e+09\n",
      "[2500]\tvalid_0's l2: 9.72192e+09\n",
      "[2600]\tvalid_0's l2: 9.70239e+09\n",
      "[2700]\tvalid_0's l2: 9.67421e+09\n",
      "[2800]\tvalid_0's l2: 9.64161e+09\n",
      "[2900]\tvalid_0's l2: 9.62661e+09\n",
      "[3000]\tvalid_0's l2: 9.61034e+09\n",
      "[3100]\tvalid_0's l2: 9.59443e+09\n",
      "[3200]\tvalid_0's l2: 9.58113e+09\n",
      "[3300]\tvalid_0's l2: 9.56735e+09\n",
      "[3400]\tvalid_0's l2: 9.55747e+09\n",
      "[3500]\tvalid_0's l2: 9.54357e+09\n",
      "[3600]\tvalid_0's l2: 9.53447e+09\n",
      "[3700]\tvalid_0's l2: 9.52603e+09\n",
      "[3800]\tvalid_0's l2: 9.51402e+09\n",
      "[3900]\tvalid_0's l2: 9.50655e+09\n",
      "[4000]\tvalid_0's l2: 9.49669e+09\n",
      "[4100]\tvalid_0's l2: 9.48904e+09\n",
      "[4200]\tvalid_0's l2: 9.4776e+09\n",
      "[4300]\tvalid_0's l2: 9.46383e+09\n",
      "[4400]\tvalid_0's l2: 9.4625e+09\n",
      "[4500]\tvalid_0's l2: 9.45213e+09\n",
      "[4600]\tvalid_0's l2: 9.44193e+09\n",
      "[4700]\tvalid_0's l2: 9.43901e+09\n",
      "[4800]\tvalid_0's l2: 9.43512e+09\n",
      "[4900]\tvalid_0's l2: 9.42603e+09\n",
      "[5000]\tvalid_0's l2: 9.4201e+09\n",
      "[5100]\tvalid_0's l2: 9.41092e+09\n",
      "[5200]\tvalid_0's l2: 9.40848e+09\n",
      "[5300]\tvalid_0's l2: 9.40208e+09\n",
      "[5400]\tvalid_0's l2: 9.39531e+09\n",
      "[5500]\tvalid_0's l2: 9.39211e+09\n",
      "[5600]\tvalid_0's l2: 9.38559e+09\n",
      "[5700]\tvalid_0's l2: 9.38171e+09\n",
      "[5800]\tvalid_0's l2: 9.37632e+09\n",
      "[5900]\tvalid_0's l2: 9.37385e+09\n",
      "[6000]\tvalid_0's l2: 9.36527e+09\n",
      "[6100]\tvalid_0's l2: 9.36186e+09\n",
      "[6200]\tvalid_0's l2: 9.35717e+09\n",
      "[6300]\tvalid_0's l2: 9.35387e+09\n",
      "[6400]\tvalid_0's l2: 9.34958e+09\n",
      "[6500]\tvalid_0's l2: 9.34405e+09\n",
      "[6600]\tvalid_0's l2: 9.33874e+09\n",
      "[6700]\tvalid_0's l2: 9.33368e+09\n",
      "[6800]\tvalid_0's l2: 9.33026e+09\n",
      "[6900]\tvalid_0's l2: 9.32829e+09\n",
      "[7000]\tvalid_0's l2: 9.32483e+09\n",
      "[7100]\tvalid_0's l2: 9.32312e+09\n",
      "[7200]\tvalid_0's l2: 9.32012e+09\n",
      "[7300]\tvalid_0's l2: 9.31892e+09\n",
      "[7400]\tvalid_0's l2: 9.31655e+09\n",
      "[7500]\tvalid_0's l2: 9.31399e+09\n",
      "[7600]\tvalid_0's l2: 9.31371e+09\n",
      "[7700]\tvalid_0's l2: 9.31509e+09\n",
      "Early stopping, best iteration is:\n",
      "[7633]\tvalid_0's l2: 9.31263e+09\n",
      "0.8728096844865636\n"
     ]
    }
   ],
   "source": [
    "p1 = ({'bagging_fraction': 0.9330343751389898,\n",
    "      'bagging_freq': 1,\n",
    "      'feature_fraction': 0.6,\n",
    "      'lambda_l1': 0.00013416924638094717,\n",
    "      'lambda_l2': 1.067295369784112e-05,\n",
    "      'min_child_samples': 5,\n",
    "      'num_leaves': 31,\n",
    "      'n_estimators': 10000,\n",
    "      'learning_rate': 0.01})\n",
    "model1 = LGBMRegressor(**p1)\n",
    "model1.fit(X_train, y_train, eval_set=[(X_test, y_test)], early_stopping_rounds=100, verbose=100, eval_metric='l2')\n",
    "print(r2_score(y_test, model1.predict(X_test, num_iteration=model1.best_iteration_)))"
   ]
  },
  {
   "cell_type": "code",
   "execution_count": 86,
   "metadata": {
    "ExecuteTime": {
     "end_time": "2020-04-22T19:33:59.207969Z",
     "start_time": "2020-04-22T19:33:35.213547Z"
    }
   },
   "outputs": [
    {
     "name": "stdout",
     "output_type": "stream",
     "text": [
      "Training until validation scores don't improve for 100 rounds\n",
      "[100]\tvalid_0's l2: 2.56309e+10\n",
      "[200]\tvalid_0's l2: 1.53335e+10\n",
      "[300]\tvalid_0's l2: 1.24725e+10\n",
      "[400]\tvalid_0's l2: 1.14198e+10\n",
      "[500]\tvalid_0's l2: 1.09425e+10\n",
      "[600]\tvalid_0's l2: 1.06148e+10\n",
      "[700]\tvalid_0's l2: 1.03902e+10\n",
      "[800]\tvalid_0's l2: 1.02164e+10\n",
      "[900]\tvalid_0's l2: 1.00681e+10\n",
      "[1000]\tvalid_0's l2: 9.95674e+09\n",
      "[1100]\tvalid_0's l2: 9.87322e+09\n",
      "[1200]\tvalid_0's l2: 9.78959e+09\n",
      "[1300]\tvalid_0's l2: 9.72591e+09\n",
      "[1400]\tvalid_0's l2: 9.68064e+09\n",
      "[1500]\tvalid_0's l2: 9.62682e+09\n",
      "[1600]\tvalid_0's l2: 9.57638e+09\n",
      "[1700]\tvalid_0's l2: 9.53389e+09\n",
      "[1800]\tvalid_0's l2: 9.49562e+09\n",
      "[1900]\tvalid_0's l2: 9.45552e+09\n",
      "[2000]\tvalid_0's l2: 9.4324e+09\n",
      "[2100]\tvalid_0's l2: 9.40257e+09\n",
      "[2200]\tvalid_0's l2: 9.38012e+09\n",
      "[2300]\tvalid_0's l2: 9.35694e+09\n",
      "[2400]\tvalid_0's l2: 9.3366e+09\n",
      "[2500]\tvalid_0's l2: 9.32086e+09\n",
      "[2600]\tvalid_0's l2: 9.3057e+09\n",
      "[2700]\tvalid_0's l2: 9.28374e+09\n",
      "[2800]\tvalid_0's l2: 9.265e+09\n",
      "[2900]\tvalid_0's l2: 9.24736e+09\n",
      "[3000]\tvalid_0's l2: 9.23945e+09\n",
      "[3100]\tvalid_0's l2: 9.22604e+09\n",
      "[3200]\tvalid_0's l2: 9.21104e+09\n",
      "[3300]\tvalid_0's l2: 9.21074e+09\n",
      "[3400]\tvalid_0's l2: 9.1986e+09\n",
      "[3500]\tvalid_0's l2: 9.19071e+09\n",
      "[3600]\tvalid_0's l2: 9.18641e+09\n",
      "[3700]\tvalid_0's l2: 9.17962e+09\n",
      "[3800]\tvalid_0's l2: 9.16427e+09\n",
      "[3900]\tvalid_0's l2: 9.15984e+09\n",
      "[4000]\tvalid_0's l2: 9.15457e+09\n",
      "[4100]\tvalid_0's l2: 9.14979e+09\n",
      "[4200]\tvalid_0's l2: 9.14349e+09\n",
      "[4300]\tvalid_0's l2: 9.1345e+09\n",
      "[4400]\tvalid_0's l2: 9.13315e+09\n",
      "[4500]\tvalid_0's l2: 9.12192e+09\n",
      "[4600]\tvalid_0's l2: 9.11712e+09\n",
      "[4700]\tvalid_0's l2: 9.1102e+09\n",
      "[4800]\tvalid_0's l2: 9.10806e+09\n",
      "[4900]\tvalid_0's l2: 9.10486e+09\n",
      "[5000]\tvalid_0's l2: 9.09892e+09\n",
      "[5100]\tvalid_0's l2: 9.09473e+09\n",
      "[5200]\tvalid_0's l2: 9.09427e+09\n",
      "Early stopping, best iteration is:\n",
      "[5167]\tvalid_0's l2: 9.09338e+09\n",
      "0.8758042591943739\n"
     ]
    }
   ],
   "source": [
    "p1 = ({'bagging_fraction': 0.9330343751389898,\n",
    "      'bagging_freq': 1,\n",
    "      'feature_fraction': 0.6,\n",
    "      'lambda_l1': 0.00013416924638094717,\n",
    "      'lambda_l2': 1.067295369784112e-05,\n",
    "      'min_child_samples': 5,\n",
    "      'num_leaves': 31,\n",
    "      'n_estimators': 6900,\n",
    "      'learning_rate': 0.01})\n",
    "model1 = LGBMRegressor(**p1)\n",
    "model1.fit(X_train, y_train, eval_set=[(X_test, y_test)], early_stopping_rounds=100, verbose=100, eval_metric='l2')\n",
    "print(r2_score(y_test, model1.predict(X_test, num_iteration=model1.best_iteration_)))"
   ]
  },
  {
   "cell_type": "code",
   "execution_count": 64,
   "metadata": {
    "ExecuteTime": {
     "end_time": "2020-04-22T19:24:13.328938Z",
     "start_time": "2020-04-22T19:23:44.133317Z"
    }
   },
   "outputs": [
    {
     "name": "stdout",
     "output_type": "stream",
     "text": [
      "Training until validation scores don't improve for 100 rounds\n",
      "[100]\tvalid_0's l2: 2.62746e+10\n",
      "[200]\tvalid_0's l2: 1.57319e+10\n",
      "[300]\tvalid_0's l2: 1.27934e+10\n",
      "[400]\tvalid_0's l2: 1.16327e+10\n",
      "[500]\tvalid_0's l2: 1.10552e+10\n",
      "[600]\tvalid_0's l2: 1.07168e+10\n",
      "[700]\tvalid_0's l2: 1.04827e+10\n",
      "[800]\tvalid_0's l2: 1.02922e+10\n",
      "[900]\tvalid_0's l2: 1.0163e+10\n",
      "[1000]\tvalid_0's l2: 1.00375e+10\n",
      "[1100]\tvalid_0's l2: 9.93698e+09\n",
      "[1200]\tvalid_0's l2: 9.845e+09\n",
      "[1300]\tvalid_0's l2: 9.77821e+09\n",
      "[1400]\tvalid_0's l2: 9.7173e+09\n",
      "[1500]\tvalid_0's l2: 9.66435e+09\n",
      "[1600]\tvalid_0's l2: 9.61451e+09\n",
      "[1700]\tvalid_0's l2: 9.58057e+09\n",
      "[1800]\tvalid_0's l2: 9.54934e+09\n",
      "[1900]\tvalid_0's l2: 9.5186e+09\n",
      "[2000]\tvalid_0's l2: 9.4933e+09\n",
      "[2100]\tvalid_0's l2: 9.46563e+09\n",
      "[2200]\tvalid_0's l2: 9.43941e+09\n",
      "[2300]\tvalid_0's l2: 9.4042e+09\n",
      "[2400]\tvalid_0's l2: 9.38961e+09\n",
      "[2500]\tvalid_0's l2: 9.36693e+09\n",
      "[2600]\tvalid_0's l2: 9.34963e+09\n",
      "[2700]\tvalid_0's l2: 9.32898e+09\n",
      "[2800]\tvalid_0's l2: 9.3123e+09\n",
      "[2900]\tvalid_0's l2: 9.2983e+09\n",
      "[3000]\tvalid_0's l2: 9.28662e+09\n",
      "[3100]\tvalid_0's l2: 9.27474e+09\n",
      "[3200]\tvalid_0's l2: 9.25933e+09\n",
      "[3300]\tvalid_0's l2: 9.24491e+09\n",
      "[3400]\tvalid_0's l2: 9.23763e+09\n",
      "[3500]\tvalid_0's l2: 9.22455e+09\n",
      "[3600]\tvalid_0's l2: 9.21611e+09\n",
      "[3700]\tvalid_0's l2: 9.20518e+09\n",
      "[3800]\tvalid_0's l2: 9.19837e+09\n",
      "[3900]\tvalid_0's l2: 9.18958e+09\n",
      "[4000]\tvalid_0's l2: 9.18393e+09\n",
      "[4100]\tvalid_0's l2: 9.17864e+09\n",
      "[4200]\tvalid_0's l2: 9.17357e+09\n",
      "[4300]\tvalid_0's l2: 9.16326e+09\n",
      "[4400]\tvalid_0's l2: 9.15717e+09\n",
      "[4500]\tvalid_0's l2: 9.15191e+09\n",
      "[4600]\tvalid_0's l2: 9.14657e+09\n",
      "[4700]\tvalid_0's l2: 9.1377e+09\n",
      "[4800]\tvalid_0's l2: 9.134e+09\n",
      "[4900]\tvalid_0's l2: 9.12797e+09\n",
      "[5000]\tvalid_0's l2: 9.11917e+09\n",
      "[5100]\tvalid_0's l2: 9.11402e+09\n",
      "[5200]\tvalid_0's l2: 9.11293e+09\n",
      "[5300]\tvalid_0's l2: 9.10987e+09\n",
      "[5400]\tvalid_0's l2: 9.10262e+09\n",
      "[5500]\tvalid_0's l2: 9.09668e+09\n",
      "[5600]\tvalid_0's l2: 9.09081e+09\n",
      "[5700]\tvalid_0's l2: 9.08813e+09\n",
      "[5800]\tvalid_0's l2: 9.08394e+09\n",
      "[5900]\tvalid_0's l2: 9.08153e+09\n",
      "[6000]\tvalid_0's l2: 9.07701e+09\n",
      "[6100]\tvalid_0's l2: 9.07163e+09\n",
      "[6200]\tvalid_0's l2: 9.0716e+09\n",
      "Early stopping, best iteration is:\n",
      "[6108]\tvalid_0's l2: 9.07033e+09\n",
      "0.8761190021688889\n"
     ]
    }
   ],
   "source": [
    "p1 = ({'bagging_fraction': 0.9330343751389898,\n",
    "      'bagging_freq': 1,\n",
    "      'feature_fraction': 0.6,\n",
    "      'lambda_l1': 0.00013416924638094717,\n",
    "      'lambda_l2': 1.067295369784112e-05,\n",
    "      'min_child_samples': 5,\n",
    "      'num_leaves': 31,\n",
    "      'n_estimators': 6900,\n",
    "      'learning_rate': 0.01})\n",
    "model1 = LGBMRegressor(**p1)\n",
    "model1.fit(X_train, y_train, eval_set=[(X_test, y_test)], early_stopping_rounds=100, verbose=100, eval_metric='l2')\n",
    "print(r2_score(y_test, model1.predict(X_test, num_iteration=model1.best_iteration_)))"
   ]
  },
  {
   "cell_type": "code",
   "execution_count": 23,
   "metadata": {
    "ExecuteTime": {
     "end_time": "2020-04-22T18:46:38.691347Z",
     "start_time": "2020-04-22T18:46:05.682888Z"
    }
   },
   "outputs": [
    {
     "name": "stdout",
     "output_type": "stream",
     "text": [
      "Training until validation scores don't improve for 100 rounds\n",
      "[100]\tvalid_0's l2: 2.69475e+10\n",
      "[200]\tvalid_0's l2: 1.64416e+10\n",
      "[300]\tvalid_0's l2: 1.33256e+10\n",
      "[400]\tvalid_0's l2: 1.21238e+10\n",
      "[500]\tvalid_0's l2: 1.15466e+10\n",
      "[600]\tvalid_0's l2: 1.11387e+10\n",
      "[700]\tvalid_0's l2: 1.08593e+10\n",
      "[800]\tvalid_0's l2: 1.06628e+10\n",
      "[900]\tvalid_0's l2: 1.05054e+10\n",
      "[1000]\tvalid_0's l2: 1.03831e+10\n",
      "[1100]\tvalid_0's l2: 1.02675e+10\n",
      "[1200]\tvalid_0's l2: 1.01851e+10\n",
      "[1300]\tvalid_0's l2: 1.01209e+10\n",
      "[1400]\tvalid_0's l2: 1.006e+10\n",
      "[1500]\tvalid_0's l2: 9.99591e+09\n",
      "[1600]\tvalid_0's l2: 9.94616e+09\n",
      "[1700]\tvalid_0's l2: 9.89628e+09\n",
      "[1800]\tvalid_0's l2: 9.84893e+09\n",
      "[1900]\tvalid_0's l2: 9.81482e+09\n",
      "[2000]\tvalid_0's l2: 9.78444e+09\n",
      "[2100]\tvalid_0's l2: 9.75577e+09\n",
      "[2200]\tvalid_0's l2: 9.72637e+09\n",
      "[2300]\tvalid_0's l2: 9.70007e+09\n",
      "[2400]\tvalid_0's l2: 9.68087e+09\n",
      "[2500]\tvalid_0's l2: 9.65512e+09\n",
      "[2600]\tvalid_0's l2: 9.63951e+09\n",
      "[2700]\tvalid_0's l2: 9.61112e+09\n",
      "[2800]\tvalid_0's l2: 9.58346e+09\n",
      "[2900]\tvalid_0's l2: 9.56548e+09\n",
      "[3000]\tvalid_0's l2: 9.54732e+09\n",
      "[3100]\tvalid_0's l2: 9.53226e+09\n",
      "[3200]\tvalid_0's l2: 9.51906e+09\n",
      "[3300]\tvalid_0's l2: 9.50706e+09\n",
      "[3400]\tvalid_0's l2: 9.4957e+09\n",
      "[3500]\tvalid_0's l2: 9.48189e+09\n",
      "[3600]\tvalid_0's l2: 9.47457e+09\n",
      "[3700]\tvalid_0's l2: 9.46733e+09\n",
      "[3800]\tvalid_0's l2: 9.45824e+09\n",
      "[3900]\tvalid_0's l2: 9.44876e+09\n",
      "[4000]\tvalid_0's l2: 9.44286e+09\n",
      "[4100]\tvalid_0's l2: 9.43447e+09\n",
      "[4200]\tvalid_0's l2: 9.42872e+09\n",
      "[4300]\tvalid_0's l2: 9.41735e+09\n",
      "[4400]\tvalid_0's l2: 9.4106e+09\n",
      "[4500]\tvalid_0's l2: 9.39873e+09\n",
      "[4600]\tvalid_0's l2: 9.39014e+09\n",
      "[4700]\tvalid_0's l2: 9.38636e+09\n",
      "[4800]\tvalid_0's l2: 9.38375e+09\n",
      "[4900]\tvalid_0's l2: 9.37696e+09\n",
      "[5000]\tvalid_0's l2: 9.37444e+09\n",
      "[5100]\tvalid_0's l2: 9.36706e+09\n",
      "[5200]\tvalid_0's l2: 9.36473e+09\n",
      "[5300]\tvalid_0's l2: 9.35748e+09\n",
      "[5400]\tvalid_0's l2: 9.35249e+09\n",
      "[5500]\tvalid_0's l2: 9.34536e+09\n",
      "[5600]\tvalid_0's l2: 9.33951e+09\n",
      "[5700]\tvalid_0's l2: 9.33591e+09\n",
      "[5800]\tvalid_0's l2: 9.33075e+09\n",
      "[5900]\tvalid_0's l2: 9.32687e+09\n",
      "[6000]\tvalid_0's l2: 9.32236e+09\n",
      "[6100]\tvalid_0's l2: 9.31974e+09\n",
      "[6200]\tvalid_0's l2: 9.31394e+09\n",
      "[6300]\tvalid_0's l2: 9.31174e+09\n",
      "[6400]\tvalid_0's l2: 9.31047e+09\n",
      "[6500]\tvalid_0's l2: 9.30534e+09\n",
      "[6600]\tvalid_0's l2: 9.30138e+09\n",
      "[6700]\tvalid_0's l2: 9.29703e+09\n",
      "[6800]\tvalid_0's l2: 9.29359e+09\n",
      "[6900]\tvalid_0's l2: 9.29557e+09\n",
      "Did not meet early stopping. Best iteration is:\n",
      "[6848]\tvalid_0's l2: 9.29206e+09\n",
      "0.8730906723603783\n"
     ]
    }
   ],
   "source": [
    "p1 = ({'bagging_fraction': 0.9330343751389898,\n",
    "      'bagging_freq': 1,\n",
    "      'feature_fraction': 0.6,\n",
    "      'lambda_l1': 0.00013416924638094717,\n",
    "      'lambda_l2': 1.067295369784112e-05,\n",
    "      'min_child_samples': 5,\n",
    "      'num_leaves': 31,\n",
    "      'n_estimators': 6900,\n",
    "      'learning_rate': 0.01})\n",
    "model1 = LGBMRegressor(**p1)\n",
    "model1.fit(X_train, y_train, eval_set=[(X_test, y_test)], early_stopping_rounds=100, verbose=100, eval_metric='l2')\n",
    "print(r2_score(y_test, model1.predict(X_test, num_iteration=model1.best_iteration_)))"
   ]
  },
  {
   "cell_type": "code",
   "execution_count": 37,
   "metadata": {
    "ExecuteTime": {
     "end_time": "2020-04-22T19:01:35.044639Z",
     "start_time": "2020-04-22T19:00:14.548774Z"
    }
   },
   "outputs": [
    {
     "name": "stdout",
     "output_type": "stream",
     "text": [
      "0.8453780971061374\n"
     ]
    }
   ],
   "source": [
    "model2 = RandomForestRegressor(n_estimators=1000, min_samples_leaf=2, n_jobs=-1)\n",
    "model2.fit(X_train, y_train)\n",
    "print(r2_score(y_test, model2.predict(X_test)))"
   ]
  },
  {
   "cell_type": "code",
   "execution_count": 31,
   "metadata": {
    "ExecuteTime": {
     "end_time": "2020-04-22T18:56:34.841201Z",
     "start_time": "2020-04-22T18:56:21.971293Z"
    }
   },
   "outputs": [
    {
     "data": {
      "text/plain": [
       "0.8730906723603783"
      ]
     },
     "execution_count": 31,
     "metadata": {},
     "output_type": "execute_result"
    }
   ],
   "source": [
    "r2_score(y_test, model1.predict(X_test, num_iteration=model1.best_iteration_))"
   ]
  },
  {
   "cell_type": "code",
   "execution_count": 13,
   "metadata": {
    "ExecuteTime": {
     "end_time": "2020-04-22T20:02:04.431833Z",
     "start_time": "2020-04-22T20:02:04.414831Z"
    }
   },
   "outputs": [],
   "source": [
    "p1 = ({'bagging_fraction': 0.9330343751389898,\n",
    "      'bagging_freq': 1,\n",
    "      'feature_fraction': 0.6,\n",
    "      'lambda_l1': 0.00013416924638094717,\n",
    "      'lambda_l2': 1.067295369784112e-05,\n",
    "      'min_child_samples': 5,\n",
    "      'num_leaves': 31,\n",
    "      'n_estimators': 6900,\n",
    "      'learning_rate': 0.01})\n",
    "model1 = LGBMRegressor(**p1)\n",
    "model2 = RandomForestRegressor(n_estimators=1000, min_samples_leaf=2, n_jobs=-1)\n",
    "models = [model1, model2]"
   ]
  },
  {
   "cell_type": "code",
   "execution_count": 14,
   "metadata": {
    "ExecuteTime": {
     "end_time": "2020-04-22T20:12:06.397346Z",
     "start_time": "2020-04-22T20:02:05.422994Z"
    }
   },
   "outputs": [
    {
     "name": "stdout",
     "output_type": "stream",
     "text": [
      "task:         [regression]\n",
      "metric:       [RMSLE]\n",
      "mode:         [oof_pred_bag]\n",
      "n_models:     [2]\n",
      "\n",
      "model  0:     [LGBMRegressor]\n",
      "    fold  0:  [112274.92405356]\n",
      "    fold  1:  [114958.17029719]\n",
      "    fold  2:  [101603.11918803]\n",
      "    fold  3:  [105007.83078980]\n",
      "    ----\n",
      "    MEAN:     [108461.01108214] + [5378.52548060]\n",
      "    FULL:     [108594.28834569]\n",
      "\n",
      "model  1:     [RandomForestRegressor]\n",
      "    fold  0:  [121926.88157859]\n",
      "    fold  1:  [121437.21284571]\n",
      "    fold  2:  [107353.17008585]\n",
      "    fold  3:  [112092.96036134]\n",
      "    ----\n",
      "    MEAN:     [115702.55621787] + [6212.28508410]\n",
      "    FULL:     [115869.21075642]\n",
      "\n"
     ]
    }
   ],
   "source": [
    "S_train, S_test = stacking(models,                   \n",
    "                           X, y, test,   \n",
    "                           regression=True,      \n",
    "                           mode='oof_pred_bag',                             \n",
    "                           metric=RMSLE,     \n",
    "                           n_folds=4,             \n",
    "                           shuffle=True,                       \n",
    "                           verbose=2)"
   ]
  },
  {
   "cell_type": "code",
   "execution_count": 15,
   "metadata": {
    "ExecuteTime": {
     "end_time": "2020-04-22T20:12:45.751064Z",
     "start_time": "2020-04-22T20:12:41.498189Z"
    }
   },
   "outputs": [],
   "source": [
    "final_model = LGBMRegressor(learning_rate=0.01, n_estimators=1600)\n",
    "final_model.fit(S_train, y)\n",
    "preds = final_model.predict(S_test)"
   ]
  },
  {
   "cell_type": "code",
   "execution_count": 16,
   "metadata": {
    "ExecuteTime": {
     "end_time": "2020-04-22T20:12:45.990325Z",
     "start_time": "2020-04-22T20:12:45.751064Z"
    }
   },
   "outputs": [],
   "source": [
    "make_submit('real_stack.csv', test, preds)"
   ]
  },
  {
   "cell_type": "code",
   "execution_count": null,
   "metadata": {},
   "outputs": [],
   "source": []
  }
 ],
 "metadata": {
  "kernelspec": {
   "display_name": "Python 3",
   "language": "python",
   "name": "python3"
  },
  "language_info": {
   "codemirror_mode": {
    "name": "ipython",
    "version": 3
   },
   "file_extension": ".py",
   "mimetype": "text/x-python",
   "name": "python",
   "nbconvert_exporter": "python",
   "pygments_lexer": "ipython3",
   "version": "3.7.3"
  }
 },
 "nbformat": 4,
 "nbformat_minor": 2
}
