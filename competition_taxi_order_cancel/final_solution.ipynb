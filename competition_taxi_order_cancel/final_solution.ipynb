{
 "cells": [
  {
   "cell_type": "markdown",
   "metadata": {},
   "source": [
    "`Work was done 13.03.2020`"
   ]
  },
  {
   "cell_type": "markdown",
   "metadata": {},
   "source": [
    "## О чём\n",
    "В данном ноутбуке приведено моё решение inclass соревнования по машинному обучению, [ссылка](https://www.kaggle.com/c/ozonmasters-ml2-2020-c1)\n",
    "\n",
    "Цель соревнования - __предсказание отмены заказа в такси__\n",
    "\n",
    "Данное решение дает скор на паблике ~0.77878 и на прайвате ~0.77532, что примерно равносильно третьему месту по итогам.\n",
    "\n",
    "Весь ноутбук работает ~22 минуты, для получения финального сабмита, достаточно просто его запустить."
   ]
  },
  {
   "cell_type": "markdown",
   "metadata": {},
   "source": [
    "Импортируем все необходимые библиотеки"
   ]
  },
  {
   "cell_type": "code",
   "execution_count": 1,
   "metadata": {
    "ExecuteTime": {
     "end_time": "2020-03-22T18:39:28.931247Z",
     "start_time": "2020-03-22T18:39:25.574702Z"
    },
    "_cell_guid": "79c7e3d0-c299-4dcb-8224-4455121ee9b0",
    "_uuid": "d629ff2d2480ee46fbb7e2d37f6b5fab8052498a"
   },
   "outputs": [],
   "source": [
    "import numpy as np\n",
    "import pandas as pd\n",
    "from sklearn.model_selection import train_test_split\n",
    "from sklearn.metrics import roc_auc_score\n",
    "from lightgbm import LGBMClassifier\n",
    "import matplotlib.pyplot as plt\n",
    "import seaborn as sns\n",
    "from sklearn.neighbors import NearestNeighbors\n",
    "from sklearn.neighbors import DistanceMetric\n",
    "from sklearn.metrics.pairwise import haversine_distances, euclidean_distances\n",
    "#plt.style.use('dark_background') # т.к. я использую черную тему в каггл кернелах.\n",
    "%matplotlib inline"
   ]
  },
  {
   "cell_type": "markdown",
   "metadata": {},
   "source": [
    "Считаем данные"
   ]
  },
  {
   "cell_type": "code",
   "execution_count": 3,
   "metadata": {
    "ExecuteTime": {
     "end_time": "2020-03-22T18:39:49.400170Z",
     "start_time": "2020-03-22T18:39:47.062678Z"
    }
   },
   "outputs": [],
   "source": [
    "train = pd.read_csv('train_data.csv')\n",
    "target = pd.read_csv('train_target.csv')\n",
    "test = pd.read_csv('test_data.csv')\n",
    "train['target'] = target"
   ]
  },
  {
   "cell_type": "markdown",
   "metadata": {},
   "source": [
    "Напишем дополнительные функции, которые будут полезны при препроцессинге данных или просто удобны"
   ]
  },
  {
   "cell_type": "code",
   "execution_count": 4,
   "metadata": {
    "ExecuteTime": {
     "end_time": "2020-03-22T18:42:55.998935Z",
     "start_time": "2020-03-22T18:42:55.932113Z"
    }
   },
   "outputs": [],
   "source": [
    "R = 6371 # радиус Земли, нужен для формулы\n",
    "# получим координаты в виду tuple для дальнейшего подсчета расстояний\n",
    "\n",
    "# преобразуем временную колонку в необходимый тип и выделим значимые фичи\n",
    "def trans_time(df):\n",
    "    df['due'] = pd.to_datetime(df['due'])\n",
    "    df['day'] = df['due'].dt.weekday\n",
    "    df['hour'] = df['due'].dt.hour\n",
    "    \n",
    "\n",
    "# label encoding кат. фичей\n",
    "def cat_code(df):\n",
    "    df['f'] = df['f_class'].astype('category').cat.codes\n",
    "    df['s'] = df['s_class'].astype('category').cat.codes\n",
    "    df['t'] = df['t_class'].astype('category').cat.codes\n",
    "\n",
    "\n",
    "# расстояния до пяти основных городов и до ближайшего из них\n",
    "def add_dist_to_city(df):\n",
    "    msk = [55.753215, 37.622504]\n",
    "    spb = [59.939095, 30.315868]\n",
    "    vor = [51.660781, 39.200269]\n",
    "    nov = [56.326797, 44.006516]\n",
    "    kaz = [55.796289, 49.108795]\n",
    "    lat = df.lat.values\n",
    "    lon = df.lon.values\n",
    "    coords = np.radians(np.array([lat, lon]).T)\n",
    "    cities = np.array([msk, spb, vor, nov, kaz])\n",
    "    cities = np.radians(cities)\n",
    "    city_names = ['dist_to_msk', 'dist_to_spb', 'dist_to_vor', 'dist_to_nov', 'dist_to_kaz']\n",
    "    dists = R * haversine_distances(cities, coords)\n",
    "    for i, name in enumerate(city_names):\n",
    "        df[name] = dists[i, :]\n",
    "    df['dist_to_city'] = df[city_names].min(axis=1)\n",
    "    \n",
    "    \n",
    "# расстояния до аэропортов в городах и до ближайшего из них\n",
    "def add_dist_to_aer(df):\n",
    "    vnukovo = [55.6058121, 37.2882462]\n",
    "    domod = [55.4145088, 37.8999786]\n",
    "    sherem = [55.974247, 37.4058723]\n",
    "    spb_aer = [59.799770, 30.273027]\n",
    "    vor_aer = [51.812612, 39.225361]\n",
    "    nov_aer = [56.219529, 43.791281]\n",
    "    kaz_aer = [55.608118, 49.298357]\n",
    "    lat = df.lat.values\n",
    "    lon = df.lon.values\n",
    "    coords = np.radians(np.array([lat, lon]).T)\n",
    "    aeroports = np.array([vnukovo, domod, sherem, spb_aer, vor_aer, nov_aer, kaz_aer])\n",
    "    aeroports = np.radians(aeroports)\n",
    "    ae_names = ['dist_to_vnuk',\n",
    "            'dist_to_domod',\n",
    "            'dist_to_sherem',\n",
    "            'dist_to_spb_aer',\n",
    "            'dist_to_vor_aer',\n",
    "            'dist_to_nov_aer',\n",
    "            'dist_to_kaz_aer']\n",
    "    dists = R * haversine_distances(aeroports, coords)\n",
    "    for i, name in enumerate(ae_names):\n",
    "        df[name] = dists[i, :]\n",
    "    df['dist_to_ae'] = df[ae_names].min(axis=1)\n",
    "    \n",
    "\n",
    "# расстояния до вокзалов в городах и до ближайшего из них\n",
    "def add_dist_to_vok(df):\n",
    "    bel_vok = [55.776618, 37.581496]\n",
    "    kaz_vok = [55.773444, 37.655329]\n",
    "    kiev_vok = [55.743250, 37.567435]\n",
    "    kursk_vok = [55.756989, 37.661230]\n",
    "    lenin_vok = [55.776451, 37.655212]\n",
    "    pavel_vok = [55.729823, 37.640596]\n",
    "    rizh_vok = [55.792746, 37.632565]\n",
    "    savel_vok = [55.794355, 37.588260]\n",
    "    yaros_vok = [55.776472, 37.657727]\n",
    "    vor_vok1 = [51.640815, 39.258738]\n",
    "    vor_vok2 = [51.669391, 39.172204]\n",
    "    vor_vok3 = [51.679751, 39.206066]\n",
    "    vor_vok4 = [51.640093, 39.258956]\n",
    "    nov_vok1 = [56.321937, 43.946227]\n",
    "    kazan_vok1 = [55.788306, 49.100562]\n",
    "    kazan_vok2 = [55.842224, 49.080763]\n",
    "    spb_vok1 = [59.929980, 30.362158]\n",
    "    spb_vok2 = [59.931828, 30.441084]\n",
    "    spb_vok3 = [59.919901, 30.329181]\n",
    "    lat = df.lat.values\n",
    "    lon = df.lon.values\n",
    "    coords = np.radians(np.array([lat, lon]).T)\n",
    "    voks = np.array([bel_vok, kaz_vok, kiev_vok, lenin_vok, pavel_vok, rizh_vok, savel_vok, yaros_vok, vor_vok1, vor_vok2,\n",
    "            vor_vok3, vor_vok4, nov_vok1, kazan_vok1, kazan_vok2, spb_vok1, spb_vok2, spb_vok3])\n",
    "    voks = np.radians(voks)\n",
    "    vok_names = ['vok_' + str(i) for i in range(len(voks))]\n",
    "    dists = R * haversine_distances(voks, coords)\n",
    "    for i, name in enumerate(vok_names):\n",
    "        df[name] = dists[i, :]\n",
    "    df['dist_to_vok'] = df[vok_names].min(axis=1)\n",
    "    \n",
    "\n",
    "# Добавим фичи - агрегации\n",
    "def add_agg_features(df):\n",
    "    df['gr_lat'] = df.groupby('lat')['lat'].transform('count')\n",
    "    df['gr_lon'] = df.groupby('lon')['lon'].transform('count')\n",
    "    df['gr_lat_lon'] = df.groupby(['lat', 'lon'])['lat'].transform('count')\n",
    "    df['gr_day'] = df.groupby('day')['day'].transform('count')\n",
    "    df['gr_hour'] = df.groupby('hour')['hour'].transform('count')\n",
    "    df['gr_day_hour'] = df.groupby(['day', 'hour'])['hour'].transform('count')\n",
    "    df['gr_hour_lat'] = df.groupby(['hour', 'lat'])['lat'].transform('count')\n",
    "    df['gr_day_lat'] = df.groupby(['day', 'lat'])['lat'].transform('count')\n",
    "    df['gr_hour_lon'] = df.groupby(['hour', 'lon'])['lon'].transform('count')\n",
    "    df['gr_day_lon'] = df.groupby(['day', 'lon'])['lon'].transform('count')\n",
    "    df['gr_lat_lon_hour'] = df.groupby(['lat', 'lon', 'hour'])['lat'].transform('count')\n",
    "    df['gr_lat_lon_day'] = df.groupby(['lat', 'lon', 'day'])['lat'].transform('count')\n",
    "    df['gr_lat_lon_hour_day'] = df.groupby(['lat', 'lon', 'hour', 'day'])['lat'].transform('count')\n",
    "    \n",
    "\n",
    "# Добавим фичи на основе ближайших соседей\n",
    "def add_nn_features(df):\n",
    "    dists = []\n",
    "    nn = []\n",
    "    lat = df.lat.values\n",
    "    lon = df.lon.values\n",
    "    radius = df.dist.values\n",
    "    coords = np.radians(np.array([lat, lon]).T)\n",
    "    nns = np.array([lat, lon, radius]).T\n",
    "    n = df.shape[0]\n",
    "    for i in range(n):\n",
    "        up = max(i-600, 0)\n",
    "        down = min(n, i+600)\n",
    "        coord = coords[i].reshape((1, 2))\n",
    "        x = nns[i].reshape((1, 3))\n",
    "        sls = np.r_[up:i, i+1:down]\n",
    "        dists.append(np.min(haversine_distances(coord, coords[sls])))\n",
    "        nn.append(np.min(euclidean_distances(x, nns[sls])))\n",
    "        \n",
    "    df['dist_to_closest_point'] = dists # расстояние до ближайшей точки в пределах где-то пяти минут\n",
    "    df['nn'] = nn # ближайший сосед, но с учетом фичи \"дистанция\"\n",
    "    \n",
    "\n",
    "\n",
    "# сделаем фичу - предполагаемую стоимость поездки, как линейная комбинации класса автомобиля и расстояния\n",
    "# (spoiler - useless)\n",
    "def create_price(df):\n",
    "    econom = np.where((df['f_class'] == 'econom') | (df['f_class'].isna()), 1, 0)\n",
    "    business = np.where(df['f_class'] == 'business', 2, 0)\n",
    "    vip = np.where(df['f_class'] == 'vip', 3, 0)\n",
    "    mix = econom + business + vip\n",
    "    df['price'] = np.where(df['dist'] <=0, df[df['dist'] > 0]['dist'].mean(), df['dist']) * mix\n",
    "    \n",
    "\n",
    "# Обработка погодных данных\n",
    "def add_weather(df):\n",
    "    msk_weather = pd.read_json('../input/ozonmasters-ml2-2020-c1/weather_data/weather_data/group-city-moscow.jsonl', lines=True)\n",
    "    spb_weather = pd.read_json('../input/ozonmasters-ml2-2020-c1/group-city-spb-fixed.jsonl', lines=True)\n",
    "    vor_weather = pd.read_json('../input/ozonmasters-ml2-2020-c1/weather_data/weather_data/group-city-voronezh.jsonl', lines=True)\n",
    "    nov_weather = pd.read_json('../input/ozonmasters-ml2-2020-c1/weather_data/weather_data/group-city-nnovgorod.jsonl', lines=True)\n",
    "    kaz_weather = pd.read_json('../input/ozonmasters-ml2-2020-c1/weather_data/weather_data/group-city-kazan.jsonl', lines=True)\n",
    "    city_names = ['dist_to_msk', 'dist_to_spb', 'dist_to_vor', 'dist_to_nov', 'dist_to_kaz']\n",
    "    df['cluster'] = df[city_names].idxmin(axis=1)\n",
    "    df['time'] = df.due.dt.floor('H')\n",
    "    msk_weather.time = pd.to_datetime(msk_weather.time)\n",
    "    msk_weather['cluster'] = 'dist_to_msk'\n",
    "    spb_weather.time = pd.to_datetime(spb_weather.time)\n",
    "    spb_weather['cluster'] = 'dist_to_spb'\n",
    "    vor_weather.time = pd.to_datetime(vor_weather.time)\n",
    "    vor_weather['cluster'] = 'dist_to_vor'\n",
    "    nov_weather.time = pd.to_datetime(nov_weather.time)\n",
    "    nov_weather['cluster'] = 'dist_to_nov'\n",
    "    kaz_weather.time = pd.to_datetime(kaz_weather.time)\n",
    "    kaz_weather['cluster'] = 'dist_to_kaz'\n",
    "    result = [msk_weather, spb_weather, vor_weather, nov_weather, kaz_weather]\n",
    "    result = pd.concat(result)\n",
    "    df = pd.merge(df, result, on=['cluster', 'time'], how='left')\n",
    "    df['gr_temperature'] = df.groupby('temperature')['temperature'].transform('count')\n",
    "    df['gr_wind_speed'] = df.groupby('wind_speed')['wind_speed'].transform('count')\n",
    "    df['summary_cat'] = df['summary'].astype('category').cat.codes\n",
    "    return df\n",
    "    \n",
    "    \n",
    "    \n",
    "# для отрисовки важности фичей после обучения lgb\n",
    "def feat_imp(clf):\n",
    "    feat_importances = pd.Series(clf.feature_importances_, index=X.columns)\n",
    "    feat_importances.nlargest(20).plot(kind='barh')\n",
    "    plt.show()\n",
    "    \n",
    "    \n",
    "# чтобы удобно делать сабмит через одно слово :)\n",
    "def create_submit(preds, name):\n",
    "    submit = pd.DataFrame({'index':range(0, preds.shape[0]), 'target':preds})\n",
    "    submit.to_csv(name, index=False)"
   ]
  },
  {
   "cell_type": "markdown",
   "metadata": {},
   "source": [
    "Отсортируем треин и тест по дате и объединим, чтобы сразу модернизировать все данные"
   ]
  },
  {
   "cell_type": "code",
   "execution_count": 5,
   "metadata": {
    "ExecuteTime": {
     "end_time": "2020-03-22T18:43:25.928605Z",
     "start_time": "2020-03-22T18:43:21.253704Z"
    }
   },
   "outputs": [],
   "source": [
    "train.sort_values(by='due', inplace=True)\n",
    "test.sort_values(by='due', inplace=True)\n",
    "train_test = train.sort_values(by='due').append(test.sort_values(by='due'), sort=False)"
   ]
  },
  {
   "cell_type": "markdown",
   "metadata": {},
   "source": [
    "Основной препроцесс"
   ]
  },
  {
   "cell_type": "code",
   "execution_count": 6,
   "metadata": {
    "ExecuteTime": {
     "end_time": "2020-03-22T18:57:07.312650Z",
     "start_time": "2020-03-22T18:43:33.419752Z"
    }
   },
   "outputs": [
    {
     "name": "stdout",
     "output_type": "stream",
     "text": [
      "Wall time: 13min 33s\n"
     ]
    }
   ],
   "source": [
    "%%time\n",
    "trans_time(train_test)\n",
    "cat_code(train_test)\n",
    "add_dist_to_city(train_test)\n",
    "#train_test = add_weather(train_test) # без погоды\n",
    "add_dist_to_aer(train_test)\n",
    "add_dist_to_vok(train_test)\n",
    "add_agg_features(train_test)\n",
    "add_nn_features(train_test)"
   ]
  },
  {
   "cell_type": "markdown",
   "metadata": {},
   "source": [
    "Проверим, что всё как и ожидалось"
   ]
  },
  {
   "cell_type": "code",
   "execution_count": 7,
   "metadata": {
    "ExecuteTime": {
     "end_time": "2020-03-22T18:57:07.365512Z",
     "start_time": "2020-03-22T18:57:07.315640Z"
    }
   },
   "outputs": [
    {
     "data": {
      "text/html": [
       "<div>\n",
       "<style scoped>\n",
       "    .dataframe tbody tr th:only-of-type {\n",
       "        vertical-align: middle;\n",
       "    }\n",
       "\n",
       "    .dataframe tbody tr th {\n",
       "        vertical-align: top;\n",
       "    }\n",
       "\n",
       "    .dataframe thead th {\n",
       "        text-align: right;\n",
       "    }\n",
       "</style>\n",
       "<table border=\"1\" class=\"dataframe\">\n",
       "  <thead>\n",
       "    <tr style=\"text-align: right;\">\n",
       "      <th></th>\n",
       "      <th>dist</th>\n",
       "      <th>due</th>\n",
       "      <th>f_class</th>\n",
       "      <th>lat</th>\n",
       "      <th>lon</th>\n",
       "      <th>s_class</th>\n",
       "      <th>t_class</th>\n",
       "      <th>target</th>\n",
       "      <th>day</th>\n",
       "      <th>hour</th>\n",
       "      <th>...</th>\n",
       "      <th>gr_day_hour</th>\n",
       "      <th>gr_hour_lat</th>\n",
       "      <th>gr_day_lat</th>\n",
       "      <th>gr_hour_lon</th>\n",
       "      <th>gr_day_lon</th>\n",
       "      <th>gr_lat_lon_hour</th>\n",
       "      <th>gr_lat_lon_day</th>\n",
       "      <th>gr_lat_lon_hour_day</th>\n",
       "      <th>dist_to_closest_point</th>\n",
       "      <th>nn</th>\n",
       "    </tr>\n",
       "  </thead>\n",
       "  <tbody>\n",
       "    <tr>\n",
       "      <th>823150</th>\n",
       "      <td>17990.125431</td>\n",
       "      <td>2014-01-01 00:09:32</td>\n",
       "      <td>econom</td>\n",
       "      <td>55.750130</td>\n",
       "      <td>37.823242</td>\n",
       "      <td>NaN</td>\n",
       "      <td>NaN</td>\n",
       "      <td>1.0</td>\n",
       "      <td>2</td>\n",
       "      <td>0</td>\n",
       "      <td>...</td>\n",
       "      <td>4490</td>\n",
       "      <td>3</td>\n",
       "      <td>5</td>\n",
       "      <td>2</td>\n",
       "      <td>1</td>\n",
       "      <td>2</td>\n",
       "      <td>1</td>\n",
       "      <td>1</td>\n",
       "      <td>0.000052</td>\n",
       "      <td>29.395668</td>\n",
       "    </tr>\n",
       "    <tr>\n",
       "      <th>685195</th>\n",
       "      <td>2322.180999</td>\n",
       "      <td>2014-01-01 00:10:00</td>\n",
       "      <td>econom</td>\n",
       "      <td>55.711488</td>\n",
       "      <td>37.884183</td>\n",
       "      <td>NaN</td>\n",
       "      <td>NaN</td>\n",
       "      <td>0.0</td>\n",
       "      <td>2</td>\n",
       "      <td>0</td>\n",
       "      <td>...</td>\n",
       "      <td>4490</td>\n",
       "      <td>2</td>\n",
       "      <td>11</td>\n",
       "      <td>2</td>\n",
       "      <td>11</td>\n",
       "      <td>2</td>\n",
       "      <td>11</td>\n",
       "      <td>2</td>\n",
       "      <td>0.000000</td>\n",
       "      <td>17.794904</td>\n",
       "    </tr>\n",
       "    <tr>\n",
       "      <th>996389</th>\n",
       "      <td>14608.577392</td>\n",
       "      <td>2014-01-01 00:10:00</td>\n",
       "      <td>econom</td>\n",
       "      <td>55.633404</td>\n",
       "      <td>37.797595</td>\n",
       "      <td>NaN</td>\n",
       "      <td>NaN</td>\n",
       "      <td>0.0</td>\n",
       "      <td>2</td>\n",
       "      <td>0</td>\n",
       "      <td>...</td>\n",
       "      <td>4490</td>\n",
       "      <td>1</td>\n",
       "      <td>1</td>\n",
       "      <td>1</td>\n",
       "      <td>1</td>\n",
       "      <td>1</td>\n",
       "      <td>1</td>\n",
       "      <td>1</td>\n",
       "      <td>0.000042</td>\n",
       "      <td>43.140719</td>\n",
       "    </tr>\n",
       "    <tr>\n",
       "      <th>497811</th>\n",
       "      <td>20055.569096</td>\n",
       "      <td>2014-01-01 00:10:00</td>\n",
       "      <td>econom</td>\n",
       "      <td>55.780380</td>\n",
       "      <td>37.645240</td>\n",
       "      <td>NaN</td>\n",
       "      <td>NaN</td>\n",
       "      <td>0.0</td>\n",
       "      <td>2</td>\n",
       "      <td>0</td>\n",
       "      <td>...</td>\n",
       "      <td>4490</td>\n",
       "      <td>4</td>\n",
       "      <td>14</td>\n",
       "      <td>4</td>\n",
       "      <td>3</td>\n",
       "      <td>4</td>\n",
       "      <td>3</td>\n",
       "      <td>2</td>\n",
       "      <td>0.000000</td>\n",
       "      <td>55.226096</td>\n",
       "    </tr>\n",
       "    <tr>\n",
       "      <th>812346</th>\n",
       "      <td>20585.444093</td>\n",
       "      <td>2014-01-01 00:10:00</td>\n",
       "      <td>econom</td>\n",
       "      <td>55.675676</td>\n",
       "      <td>37.500387</td>\n",
       "      <td>NaN</td>\n",
       "      <td>NaN</td>\n",
       "      <td>1.0</td>\n",
       "      <td>2</td>\n",
       "      <td>0</td>\n",
       "      <td>...</td>\n",
       "      <td>4490</td>\n",
       "      <td>1</td>\n",
       "      <td>1</td>\n",
       "      <td>1</td>\n",
       "      <td>1</td>\n",
       "      <td>1</td>\n",
       "      <td>1</td>\n",
       "      <td>1</td>\n",
       "      <td>0.000008</td>\n",
       "      <td>26.066450</td>\n",
       "    </tr>\n",
       "  </tbody>\n",
       "</table>\n",
       "<p>5 rows × 61 columns</p>\n",
       "</div>"
      ],
      "text/plain": [
       "                dist                 due f_class        lat        lon  \\\n",
       "823150  17990.125431 2014-01-01 00:09:32  econom  55.750130  37.823242   \n",
       "685195   2322.180999 2014-01-01 00:10:00  econom  55.711488  37.884183   \n",
       "996389  14608.577392 2014-01-01 00:10:00  econom  55.633404  37.797595   \n",
       "497811  20055.569096 2014-01-01 00:10:00  econom  55.780380  37.645240   \n",
       "812346  20585.444093 2014-01-01 00:10:00  econom  55.675676  37.500387   \n",
       "\n",
       "       s_class t_class  target  day  hour  ...  gr_day_hour  gr_hour_lat  \\\n",
       "823150     NaN     NaN     1.0    2     0  ...         4490            3   \n",
       "685195     NaN     NaN     0.0    2     0  ...         4490            2   \n",
       "996389     NaN     NaN     0.0    2     0  ...         4490            1   \n",
       "497811     NaN     NaN     0.0    2     0  ...         4490            4   \n",
       "812346     NaN     NaN     1.0    2     0  ...         4490            1   \n",
       "\n",
       "        gr_day_lat  gr_hour_lon  gr_day_lon  gr_lat_lon_hour  gr_lat_lon_day  \\\n",
       "823150           5            2           1                2               1   \n",
       "685195          11            2          11                2              11   \n",
       "996389           1            1           1                1               1   \n",
       "497811          14            4           3                4               3   \n",
       "812346           1            1           1                1               1   \n",
       "\n",
       "        gr_lat_lon_hour_day  dist_to_closest_point         nn  \n",
       "823150                    1               0.000052  29.395668  \n",
       "685195                    2               0.000000  17.794904  \n",
       "996389                    1               0.000042  43.140719  \n",
       "497811                    2               0.000000  55.226096  \n",
       "812346                    1               0.000008  26.066450  \n",
       "\n",
       "[5 rows x 61 columns]"
      ]
     },
     "execution_count": 7,
     "metadata": {},
     "output_type": "execute_result"
    }
   ],
   "source": [
    "train_test.head()"
   ]
  },
  {
   "cell_type": "code",
   "execution_count": 8,
   "metadata": {
    "ExecuteTime": {
     "end_time": "2020-03-22T18:57:07.383463Z",
     "start_time": "2020-03-22T18:57:07.372497Z"
    }
   },
   "outputs": [
    {
     "name": "stdout",
     "output_type": "stream",
     "text": [
      "Index(['dist', 'due', 'f_class', 'lat', 'lon', 's_class', 't_class', 'target',\n",
      "       'day', 'hour', 'f', 's', 't', 'dist_to_msk', 'dist_to_spb',\n",
      "       'dist_to_vor', 'dist_to_nov', 'dist_to_kaz', 'dist_to_city',\n",
      "       'dist_to_vnuk', 'dist_to_domod', 'dist_to_sherem', 'dist_to_spb_aer',\n",
      "       'dist_to_vor_aer', 'dist_to_nov_aer', 'dist_to_kaz_aer', 'dist_to_ae',\n",
      "       'vok_0', 'vok_1', 'vok_2', 'vok_3', 'vok_4', 'vok_5', 'vok_6', 'vok_7',\n",
      "       'vok_8', 'vok_9', 'vok_10', 'vok_11', 'vok_12', 'vok_13', 'vok_14',\n",
      "       'vok_15', 'vok_16', 'vok_17', 'dist_to_vok', 'gr_lat', 'gr_lon',\n",
      "       'gr_lat_lon', 'gr_day', 'gr_hour', 'gr_day_hour', 'gr_hour_lat',\n",
      "       'gr_day_lat', 'gr_hour_lon', 'gr_day_lon', 'gr_lat_lon_hour',\n",
      "       'gr_lat_lon_day', 'gr_lat_lon_hour_day', 'dist_to_closest_point', 'nn'],\n",
      "      dtype='object')\n"
     ]
    }
   ],
   "source": [
    "print(train_test.columns)"
   ]
  },
  {
   "cell_type": "markdown",
   "metadata": {},
   "source": [
    "Обратно разделим трейн и тест + проверим, что правильно по размерам всё"
   ]
  },
  {
   "cell_type": "code",
   "execution_count": 9,
   "metadata": {
    "ExecuteTime": {
     "end_time": "2020-03-22T18:57:09.274492Z",
     "start_time": "2020-03-22T18:57:07.387450Z"
    }
   },
   "outputs": [
    {
     "name": "stderr",
     "output_type": "stream",
     "text": [
      "C:\\Users\\Alex\\Anaconda3\\lib\\site-packages\\ipykernel_launcher.py:4: SettingWithCopyWarning: \n",
      "A value is trying to be set on a copy of a slice from a DataFrame\n",
      "\n",
      "See the caveats in the documentation: https://pandas.pydata.org/pandas-docs/stable/user_guide/indexing.html#returning-a-view-versus-a-copy\n",
      "  after removing the cwd from sys.path.\n"
     ]
    }
   ],
   "source": [
    "train_size = train.shape[0]\n",
    "train = train_test.iloc[:train_size]\n",
    "test = train_test.iloc[train_size:]\n",
    "test.sort_index(inplace=True)\n",
    "assert(train.shape[0] + test.shape[0] == train_test.shape[0])"
   ]
  },
  {
   "cell_type": "markdown",
   "metadata": {},
   "source": [
    "local validation"
   ]
  },
  {
   "cell_type": "code",
   "execution_count": 10,
   "metadata": {
    "ExecuteTime": {
     "end_time": "2020-03-22T18:57:09.477651Z",
     "start_time": "2020-03-22T18:57:09.276488Z"
    }
   },
   "outputs": [],
   "source": [
    "size = int(0.7 * train_size)\n",
    "features = ['dist', 'lat', 'lon', 'day', 'hour', 'f', 's', 't', 'dist_to_city', 'dist_to_ae', 'dist_to_vok',\n",
    "           'gr_lat', 'gr_lon',\n",
    "           'gr_lat_lon', 'gr_day', 'gr_hour', 'gr_day_hour', 'gr_hour_lat',\n",
    "           'gr_day_lat', 'gr_hour_lon', 'gr_day_lon', 'gr_lat_lon_hour',\n",
    "           'gr_lat_lon_day', 'gr_lat_lon_hour_day', 'dist_to_closest_point', 'nn']\n",
    "X, y = train[features], train['target'].astype(int)\n",
    "X_train, X_test = X.iloc[:size], X.iloc[size:]\n",
    "y_train, y_test = y.iloc[:size], y.iloc[size:]"
   ]
  },
  {
   "cell_type": "code",
   "execution_count": 11,
   "metadata": {
    "ExecuteTime": {
     "end_time": "2020-03-22T19:01:53.446954Z",
     "start_time": "2020-03-22T18:57:09.480380Z"
    }
   },
   "outputs": [
    {
     "name": "stdout",
     "output_type": "stream",
     "text": [
      "Training until validation scores don't improve for 100 rounds\n",
      "[25]\ttraining's auc: 0.757899\ttraining's binary_logloss: 0.363607\tvalid_1's auc: 0.772178\tvalid_1's binary_logloss: 0.373766\n",
      "[50]\ttraining's auc: 0.761597\ttraining's binary_logloss: 0.349121\tvalid_1's auc: 0.774605\tvalid_1's binary_logloss: 0.357272\n",
      "[75]\ttraining's auc: 0.764166\ttraining's binary_logloss: 0.342859\tvalid_1's auc: 0.776108\tvalid_1's binary_logloss: 0.350402\n",
      "[100]\ttraining's auc: 0.766601\ttraining's binary_logloss: 0.3397\tvalid_1's auc: 0.777452\tvalid_1's binary_logloss: 0.347158\n",
      "[125]\ttraining's auc: 0.768839\ttraining's binary_logloss: 0.337826\tvalid_1's auc: 0.778246\tvalid_1's binary_logloss: 0.345564\n",
      "[150]\ttraining's auc: 0.771019\ttraining's binary_logloss: 0.336494\tvalid_1's auc: 0.778809\tvalid_1's binary_logloss: 0.344687\n",
      "[175]\ttraining's auc: 0.773118\ttraining's binary_logloss: 0.335426\tvalid_1's auc: 0.779269\tvalid_1's binary_logloss: 0.344091\n",
      "[200]\ttraining's auc: 0.775053\ttraining's binary_logloss: 0.334536\tvalid_1's auc: 0.779609\tvalid_1's binary_logloss: 0.343728\n",
      "[225]\ttraining's auc: 0.776947\ttraining's binary_logloss: 0.333713\tvalid_1's auc: 0.779891\tvalid_1's binary_logloss: 0.343484\n",
      "[250]\ttraining's auc: 0.778783\ttraining's binary_logloss: 0.332941\tvalid_1's auc: 0.780129\tvalid_1's binary_logloss: 0.343305\n",
      "[275]\ttraining's auc: 0.780757\ttraining's binary_logloss: 0.332228\tvalid_1's auc: 0.78026\tvalid_1's binary_logloss: 0.343202\n",
      "[300]\ttraining's auc: 0.782265\ttraining's binary_logloss: 0.331594\tvalid_1's auc: 0.780368\tvalid_1's binary_logloss: 0.343121\n",
      "[325]\ttraining's auc: 0.783654\ttraining's binary_logloss: 0.331007\tvalid_1's auc: 0.780444\tvalid_1's binary_logloss: 0.343078\n",
      "[350]\ttraining's auc: 0.785073\ttraining's binary_logloss: 0.330427\tvalid_1's auc: 0.780533\tvalid_1's binary_logloss: 0.34302\n",
      "[375]\ttraining's auc: 0.786515\ttraining's binary_logloss: 0.329859\tvalid_1's auc: 0.780581\tvalid_1's binary_logloss: 0.342981\n",
      "[400]\ttraining's auc: 0.787823\ttraining's binary_logloss: 0.329308\tvalid_1's auc: 0.780644\tvalid_1's binary_logloss: 0.342926\n",
      "[425]\ttraining's auc: 0.789216\ttraining's binary_logloss: 0.328766\tvalid_1's auc: 0.780706\tvalid_1's binary_logloss: 0.342899\n",
      "[450]\ttraining's auc: 0.790673\ttraining's binary_logloss: 0.328228\tvalid_1's auc: 0.780744\tvalid_1's binary_logloss: 0.342881\n",
      "[475]\ttraining's auc: 0.791965\ttraining's binary_logloss: 0.327718\tvalid_1's auc: 0.780753\tvalid_1's binary_logloss: 0.342875\n",
      "[500]\ttraining's auc: 0.793291\ttraining's binary_logloss: 0.327176\tvalid_1's auc: 0.780793\tvalid_1's binary_logloss: 0.342851\n",
      "[525]\ttraining's auc: 0.794603\ttraining's binary_logloss: 0.32664\tvalid_1's auc: 0.78079\tvalid_1's binary_logloss: 0.342845\n",
      "[550]\ttraining's auc: 0.796013\ttraining's binary_logloss: 0.326102\tvalid_1's auc: 0.780827\tvalid_1's binary_logloss: 0.342823\n",
      "[575]\ttraining's auc: 0.797418\ttraining's binary_logloss: 0.325578\tvalid_1's auc: 0.78085\tvalid_1's binary_logloss: 0.342812\n",
      "[600]\ttraining's auc: 0.79855\ttraining's binary_logloss: 0.325084\tvalid_1's auc: 0.780892\tvalid_1's binary_logloss: 0.342795\n",
      "[625]\ttraining's auc: 0.79964\ttraining's binary_logloss: 0.324615\tvalid_1's auc: 0.780923\tvalid_1's binary_logloss: 0.34278\n",
      "[650]\ttraining's auc: 0.800705\ttraining's binary_logloss: 0.324139\tvalid_1's auc: 0.78094\tvalid_1's binary_logloss: 0.342764\n",
      "[675]\ttraining's auc: 0.801963\ttraining's binary_logloss: 0.323653\tvalid_1's auc: 0.78096\tvalid_1's binary_logloss: 0.342757\n",
      "[700]\ttraining's auc: 0.803295\ttraining's binary_logloss: 0.323163\tvalid_1's auc: 0.780974\tvalid_1's binary_logloss: 0.342756\n",
      "[725]\ttraining's auc: 0.804558\ttraining's binary_logloss: 0.322682\tvalid_1's auc: 0.781001\tvalid_1's binary_logloss: 0.342749\n",
      "[750]\ttraining's auc: 0.80585\ttraining's binary_logloss: 0.322187\tvalid_1's auc: 0.780999\tvalid_1's binary_logloss: 0.342749\n",
      "[775]\ttraining's auc: 0.80704\ttraining's binary_logloss: 0.321716\tvalid_1's auc: 0.781\tvalid_1's binary_logloss: 0.342749\n",
      "[800]\ttraining's auc: 0.808305\ttraining's binary_logloss: 0.321237\tvalid_1's auc: 0.780991\tvalid_1's binary_logloss: 0.342752\n",
      "[825]\ttraining's auc: 0.809616\ttraining's binary_logloss: 0.320753\tvalid_1's auc: 0.780996\tvalid_1's binary_logloss: 0.342751\n",
      "Early stopping, best iteration is:\n",
      "[732]\ttraining's auc: 0.804896\ttraining's binary_logloss: 0.322546\tvalid_1's auc: 0.781025\tvalid_1's binary_logloss: 0.342739\n"
     ]
    },
    {
     "data": {
      "text/plain": [
       "LGBMClassifier(boosting_type='gbdt', class_weight=None, colsample_bytree=1.0,\n",
       "               importance_type='split', learning_rate=0.02, max_depth=-1,\n",
       "               min_child_samples=20, min_child_weight=0.001, min_split_gain=0.0,\n",
       "               n_estimators=5000, n_jobs=-1, num_leaves=111, objective='binary',\n",
       "               random_state=None, reg_alpha=0.0, reg_lambda=0.0, silent=True,\n",
       "               subsample=1.0, subsample_for_bin=200000, subsample_freq=0)"
      ]
     },
     "execution_count": 11,
     "metadata": {},
     "output_type": "execute_result"
    }
   ],
   "source": [
    "clf = LGBMClassifier(n_estimators=5000, learning_rate=0.02, num_leaves=111, n_jobs=-1, objective='binary')\n",
    "clf.fit(X_train, y_train, eval_set=[(X_train, y_train), (X_test, y_test)], eval_metric='auc', verbose=25, early_stopping_rounds=100)"
   ]
  },
  {
   "cell_type": "markdown",
   "metadata": {},
   "source": [
    "final submit"
   ]
  },
  {
   "cell_type": "code",
   "execution_count": 12,
   "metadata": {
    "ExecuteTime": {
     "end_time": "2020-03-22T19:04:36.281873Z",
     "start_time": "2020-03-22T19:01:53.450939Z"
    }
   },
   "outputs": [],
   "source": [
    "clf = LGBMClassifier(n_estimators=800, learning_rate=0.02, num_leaves=111, n_jobs=-1, objective='binary')\n",
    "clf.fit(X, y)\n",
    "preds = clf.predict_proba(test[features])[:, 1]\n",
    "create_submit(preds, 'final_submission.csv')"
   ]
  },
  {
   "cell_type": "markdown",
   "metadata": {},
   "source": [
    "feature importance"
   ]
  },
  {
   "cell_type": "code",
   "execution_count": 13,
   "metadata": {
    "ExecuteTime": {
     "end_time": "2020-03-22T19:04:36.608208Z",
     "start_time": "2020-03-22T19:04:36.284849Z"
    }
   },
   "outputs": [
    {
     "data": {
      "image/png": "[encoded data removed]",
      "text/plain": [
       "<Figure size 432x288 with 1 Axes>"
      ]
     },
     "metadata": {
      "needs_background": "light"
     },
     "output_type": "display_data"
    }
   ],
   "source": [
    "feat_imp(clf)"
   ]
  },
  {
   "cell_type": "markdown",
   "metadata": {},
   "source": [
    "Ещё немного поработал с оптимизатором лайтгбм - оптуной, работает довольно долго, но неплохо, тем не менее ручной подбор параметров показался мне более оптимальным (по крайней мере в этой задаче)."
   ]
  },
  {
   "cell_type": "code",
   "execution_count": null,
   "metadata": {},
   "outputs": [],
   "source": [
    "# import optuna.integration.lightgbm as lgb\n",
    "\n",
    "# dtrain = lgb.Dataset(X_train, label=y_train)\n",
    "# dval = lgb.Dataset(X_test, label=y_test)\n",
    "\n",
    "# params = {\n",
    "#         'objective': 'binary',\n",
    "#         'metric': 'auc',\n",
    "#         'verbosity': -1,\n",
    "#         'boosting_type': 'gbdt',\n",
    "#     }\n",
    "\n",
    "# best_params, tuning_history = dict(), list()\n",
    "\n",
    "# model = lgb.train(params,\n",
    "#                   dtrain,\n",
    "#                   valid_sets=[dtrain, dval],\n",
    "#                   best_params=best_params,\n",
    "#                   tuning_history=tuning_history,\n",
    "#                   verbose_eval=100,\n",
    "#                   early_stopping_rounds=100,\n",
    "#                   )\n",
    "\n",
    "# prediction = model.predict(X_test, num_iteration=model.best_iteration)\n",
    "# accuracy = roc_auc_score(y_test, prediction)\n",
    "\n",
    "# print('Number of finished trials: {}'.format(len(tuning_history)))\n",
    "# print('Best params:', best_params)\n",
    "# print('  Accuracy = {}'.format(accuracy))\n",
    "# print('  Params: ')\n",
    "# for key, value in best_params.items():\n",
    "#     print('    {}: {}'.format(key, value))"
   ]
  },
  {
   "cell_type": "markdown",
   "metadata": {},
   "source": [
    "### Выводы, мысли, чему научился, что попробовал..."
   ]
  },
  {
   "cell_type": "markdown",
   "metadata": {},
   "source": [
    "Итак, это моё первое соревнование. На него я в сумме потратил около 50-60 часов ~(да много, да тупо, но я был увлечен)~. За это время я смог разобраться во многих вещах (наверное рутинных по большому счету) и попробовать некоторые штуки. Во-первых, я попробовал визуализацию именно координат точек на карте, что позволило обнаружить некоторые аномалии и вообще сделать выводы по поводу расположения сэмплов (хотя в итоге обнаружение аномалий ничего не дало особо). Во-вторых, разобрался с lightgbm, как использовать, тюнить, какие есть оптимизаторы и чем они отличаются, сколько времени уходит на обучение, от чего оно зависит и т. д. В-третьих, понял, насколько суперполезен (непростой) навык организации работы: как правильно записывать всё, что делал и иметь возможность воспроизвести это. Этому ещё учиться и учиться...Ещё полезно стараться обобщаться всю обработку данных (делать функции) и запихивать в единый пайплайн её. + полезно прикидывать время сколько будет считаться та или иная фича и стараться оптимизировать код (как пример, код, который я написал для подсчета фичи с расстоянием изначально был очень тупой и работал много часов, а под конец соревнования я оптимизировал его и он работает пять минут). Как-то так."
   ]
  }
 ],
 "metadata": {
  "kernelspec": {
   "display_name": "Python 3",
   "language": "python",
   "name": "python3"
  },
  "language_info": {
   "codemirror_mode": {
    "name": "ipython",
    "version": 3
   },
   "file_extension": ".py",
   "mimetype": "text/x-python",
   "name": "python",
   "nbconvert_exporter": "python",
   "pygments_lexer": "ipython3",
   "version": "3.7.3"
  }
 },
 "nbformat": 4,
 "nbformat_minor": 4
}
