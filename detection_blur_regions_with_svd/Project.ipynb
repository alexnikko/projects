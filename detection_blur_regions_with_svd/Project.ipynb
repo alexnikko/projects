{
 "cells": [
  {
   "cell_type": "markdown",
   "metadata": {},
   "source": [
    "## О чём\n",
    "В данном ноутбуке реализован алгоритм детекции \"замыленных\" областей на изображение, описанной в [данной](https://fled.github.io/paper/blur.pdf) статье.\n",
    "\n",
    "Проект является финальным проектом курса NLA"
   ]
  },
  {
   "cell_type": "code",
   "execution_count": 1,
   "metadata": {
    "ExecuteTime": {
     "end_time": "2020-04-07T19:48:56.401010Z",
     "start_time": "2020-04-07T19:48:56.295988Z"
    }
   },
   "outputs": [],
   "source": [
    "import cv2\n",
    "import numpy as np\n",
    "\n",
    "\n",
    "# getting pixel blur degree to map it\n",
    "def get_blur_degree(image_file, sv_num=10):\n",
    "    img = cv2.imread(image_file,cv2.IMREAD_GRAYSCALE)\n",
    "    u, s, v = np.linalg.svd(img)\n",
    "    top_sv = np.sum(s[0:sv_num])\n",
    "    total_sv = np.sum(s)\n",
    "    return top_sv/total_sv\n",
    "\n",
    "\n",
    "# gettimg blurred image and segment it\n",
    "def get_blur_map(image_file, win_size=10, sv_num=3):\n",
    "    img = cv2.imread(image_file, cv2.IMREAD_GRAYSCALE)\n",
    "    m, n = img.shape[0]+win_size*2, img.shape[1]+win_size*2\n",
    "    new_img = np.zeros((m, n))\n",
    "    new_img[win_size:m-win_size, win_size:n-win_size] = img\n",
    "    new_img[:win_size, :win_size] = img[0][0]\n",
    "    new_img[:win_size, n-win_size:] = img[0][-1]\n",
    "    new_img[m-win_size:, :win_size] = img[-1][0]\n",
    "    new_img[m-win_size:, n-win_size:] = img[-1][-1]\n",
    "    new_img[:win_size, win_size:n-win_size] = img[0]\n",
    "    new_img[win_size:m-win_size, :win_size] = img[:, 0, np.newaxis]\n",
    "    new_img[win_size:m-win_size, n-win_size:] = img[:, -1, np.newaxis]\n",
    "    new_img[m-win_size:, win_size:n-win_size] = img[-1]\n",
    "    \n",
    "    blur_map = np.zeros((img.shape[0], img.shape[1]))\n",
    "    max_sv = 0\n",
    "    min_sv = 1\n",
    "    for i in range(img.shape[0]):\n",
    "        for j in range(img.shape[1]):\n",
    "            block = new_img[i:i+win_size*2, j:j+win_size*2]\n",
    "            u, s, v = np.linalg.svd(block)\n",
    "            top_sv = np.sum(s[0:sv_num])\n",
    "            total_sv = np.sum(s)\n",
    "            sv_degree = top_sv/total_sv\n",
    "            if max_sv < sv_degree:\n",
    "                max_sv = sv_degree\n",
    "            if min_sv > sv_degree:\n",
    "                min_sv = sv_degree\n",
    "            blur_map[i, j] = sv_degree\n",
    "    blur_map = (blur_map-min_sv)/(max_sv-min_sv)\n",
    "    return blur_map\n",
    "\n",
    "\n",
    "# do tests\n",
    "def test():\n",
    "    test1 = './test_images/romashka.jpg'\n",
    "    test2 = './test_images/oranges.jpg'\n",
    "    test3 = './test_images/car_no_blur.jpg'\n",
    "    test4 = './test_images/car_half_blur.jpg'\n",
    "    test5 = './test_images/car_weak_blur.jpg'\n",
    "    test6 = './test_images/car_strong_blur.jpg'\n",
    "    tests = [test1, test2, test3, test4, test5, test6]\n",
    "    for path in tests:\n",
    "        result = get_blur_map(path)\n",
    "        result_name = './test_results/segmented_' + path.split('/')[-1]\n",
    "        cv2.imwrite(result_name, (1-result)*255)"
   ]
  },
  {
   "cell_type": "code",
   "execution_count": 2,
   "metadata": {
    "ExecuteTime": {
     "end_time": "2020-04-07T19:52:04.636708Z",
     "start_time": "2020-04-07T19:48:56.402010Z"
    }
   },
   "outputs": [],
   "source": [
    "test()"
   ]
  }
 ],
 "metadata": {
  "kernelspec": {
   "display_name": "Python 3",
   "language": "python",
   "name": "python3"
  },
  "language_info": {
   "codemirror_mode": {
    "name": "ipython",
    "version": 3
   },
   "file_extension": ".py",
   "mimetype": "text/x-python",
   "name": "python",
   "nbconvert_exporter": "python",
   "pygments_lexer": "ipython3",
   "version": "3.7.3"
  }
 },
 "nbformat": 4,
 "nbformat_minor": 2
}
